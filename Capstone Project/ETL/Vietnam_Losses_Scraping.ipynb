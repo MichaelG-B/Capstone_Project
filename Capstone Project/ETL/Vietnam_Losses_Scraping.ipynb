{
 "cells": [
  {
   "cell_type": "code",
   "execution_count": 1,
   "id": "a3ebe9ad",
   "metadata": {},
   "outputs": [],
   "source": [
    "# Import dependencies\n",
    "import pandas as pd\n",
    "import requests\n",
    "from bs4 import BeautifulSoup\n",
    "from time import sleep\n",
    "from random import randint"
   ]
  },
  {
   "cell_type": "code",
   "execution_count": 2,
   "id": "5f872d04",
   "metadata": {},
   "outputs": [],
   "source": [
    "# Scraping the different loss records in our data source: aviationarchaeology.com. All USAF losses.\n",
    "page = 1\n",
    "records = []\n",
    "while page != 1607:\n",
    "    aair_url = f\"https://www.aviationarchaeology.com/rptVietnam.asp?RecID={page}\"\n",
    "    response = requests.get(aair_url)\n",
    "    html = response.content\n",
    "    soup = BeautifulSoup(html, \"lxml\")\n",
    "    for tb in soup.find_all('table'):\n",
    "        records.append(tb.get_text(strip=True))\n",
    "    sleep(randint(2,5))\n",
    "    page = page + 1\n"
   ]
  },
  {
   "cell_type": "code",
   "execution_count": 3,
   "id": "6aa5fea6",
   "metadata": {},
   "outputs": [
    {
     "name": "stdout",
     "output_type": "stream",
     "text": [
      "<class 'list'>\n"
     ]
    }
   ],
   "source": [
    "# Checking that our data contained as a list.\n",
    "print(type(records))"
   ]
  },
  {
   "cell_type": "code",
   "execution_count": 4,
   "id": "608b5751",
   "metadata": {},
   "outputs": [
    {
     "data": {
      "text/html": [
       "<div>\n",
       "<style scoped>\n",
       "    .dataframe tbody tr th:only-of-type {\n",
       "        vertical-align: middle;\n",
       "    }\n",
       "\n",
       "    .dataframe tbody tr th {\n",
       "        vertical-align: top;\n",
       "    }\n",
       "\n",
       "    .dataframe thead th {\n",
       "        text-align: right;\n",
       "    }\n",
       "</style>\n",
       "<table border=\"1\" class=\"dataframe\">\n",
       "  <thead>\n",
       "    <tr style=\"text-align: right;\">\n",
       "      <th></th>\n",
       "      <th>All_Info</th>\n",
       "    </tr>\n",
       "  </thead>\n",
       "  <tbody>\n",
       "    <tr>\n",
       "      <th>0</th>\n",
       "      <td>Crash Date:620202Crash Time:_Aircraft Type:C-1...</td>\n",
       "    </tr>\n",
       "    <tr>\n",
       "      <th>1</th>\n",
       "      <td>Crash Date:620211Crash Time:_Aircraft Type:SC-...</td>\n",
       "    </tr>\n",
       "    <tr>\n",
       "      <th>2</th>\n",
       "      <td>Crash Date:620613Crash Time:_Aircraft Type:T-2...</td>\n",
       "    </tr>\n",
       "    <tr>\n",
       "      <th>3</th>\n",
       "      <td>Crash Date:620828Crash Time:_Aircraft Type:T-2...</td>\n",
       "    </tr>\n",
       "    <tr>\n",
       "      <th>4</th>\n",
       "      <td>Crash Date:621015Crash Time:_Aircraft Type:U-1...</td>\n",
       "    </tr>\n",
       "  </tbody>\n",
       "</table>\n",
       "</div>"
      ],
      "text/plain": [
       "                                            All_Info\n",
       "0  Crash Date:620202Crash Time:_Aircraft Type:C-1...\n",
       "1  Crash Date:620211Crash Time:_Aircraft Type:SC-...\n",
       "2  Crash Date:620613Crash Time:_Aircraft Type:T-2...\n",
       "3  Crash Date:620828Crash Time:_Aircraft Type:T-2...\n",
       "4  Crash Date:621015Crash Time:_Aircraft Type:U-1..."
      ]
     },
     "execution_count": 4,
     "metadata": {},
     "output_type": "execute_result"
    }
   ],
   "source": [
    "# Creating a dataframe of the raw data\n",
    "usaf_df = pd.DataFrame(records, columns = [\"All_Info\"])\n",
    "usaf_df.head()"
   ]
  },
  {
   "cell_type": "code",
   "execution_count": 5,
   "id": "d8903b15",
   "metadata": {},
   "outputs": [],
   "source": [
    "# Exporting raw data to csv. So we don't have to run a large scrape again each time we open & update our ETL/data cleaning file.\n",
    "usaf_df.to_csv('Vietnam_USAF_Losses_Raw_Data.csv', index=False)"
   ]
  },
  {
   "cell_type": "markdown",
   "id": "7378b2b1",
   "metadata": {},
   "source": [
    "### Scrape of second website. This contains some additional information we can use as context."
   ]
  },
  {
   "cell_type": "code",
   "execution_count": 12,
   "id": "dcc9baed",
   "metadata": {},
   "outputs": [],
   "source": [
    "# Scraped summary page with all listings in case we need for info like full base name, etc.\n",
    "fixedwing_url = 'http://vietnamairlosses.com/name_search_list.php'\n",
    "fixedwing_losses = []\n",
    "\n",
    "response = requests.get(fixedwing_url)\n",
    "html = response.content\n",
    "soup = BeautifulSoup(html, \"lxml\")\n",
    "for li in soup.find_all('li'):\n",
    "    fixedwing_losses.append(li.get_text(strip=True))"
   ]
  },
  {
   "cell_type": "code",
   "execution_count": 13,
   "id": "653bf7ae",
   "metadata": {},
   "outputs": [
    {
     "name": "stdout",
     "output_type": "stream",
     "text": [
      "<class 'list'>\n"
     ]
    }
   ],
   "source": [
    "# Checking that our data contained as a list.\n",
    "print(type(fixedwing_losses))"
   ]
  },
  {
   "cell_type": "code",
   "execution_count": 14,
   "id": "f41b36b3",
   "metadata": {},
   "outputs": [
    {
     "data": {
      "text/html": [
       "<div>\n",
       "<style scoped>\n",
       "    .dataframe tbody tr th:only-of-type {\n",
       "        vertical-align: middle;\n",
       "    }\n",
       "\n",
       "    .dataframe tbody tr th {\n",
       "        vertical-align: top;\n",
       "    }\n",
       "\n",
       "    .dataframe thead th {\n",
       "        text-align: right;\n",
       "    }\n",
       "</style>\n",
       "<table border=\"1\" class=\"dataframe\">\n",
       "  <thead>\n",
       "    <tr style=\"text-align: right;\">\n",
       "      <th></th>\n",
       "      <th>All_Info</th>\n",
       "    </tr>\n",
       "  </thead>\n",
       "  <tbody>\n",
       "    <tr>\n",
       "      <th>0</th>\n",
       "      <td>23 March 1961:  C-47B Skytrain; Ser # 44-76330...</td>\n",
       "    </tr>\n",
       "    <tr>\n",
       "      <th>1</th>\n",
       "      <td>2 February 1962:  C-123B Provider; Ser # 56-43...</td>\n",
       "    </tr>\n",
       "    <tr>\n",
       "      <th>2</th>\n",
       "      <td>11 February 1962:  SC-47A Skytrain; Ser # 43-1...</td>\n",
       "    </tr>\n",
       "    <tr>\n",
       "      <th>3</th>\n",
       "      <td>20 April 1962:  C-123B Provider; Ser # 56-4368...</td>\n",
       "    </tr>\n",
       "    <tr>\n",
       "      <th>4</th>\n",
       "      <td>15 July 1962:  C-123B Provider; Ser # 56-4366;...</td>\n",
       "    </tr>\n",
       "  </tbody>\n",
       "</table>\n",
       "</div>"
      ],
      "text/plain": [
       "                                            All_Info\n",
       "0  23 March 1961:  C-47B Skytrain; Ser # 44-76330...\n",
       "1  2 February 1962:  C-123B Provider; Ser # 56-43...\n",
       "2  11 February 1962:  SC-47A Skytrain; Ser # 43-1...\n",
       "3  20 April 1962:  C-123B Provider; Ser # 56-4368...\n",
       "4  15 July 1962:  C-123B Provider; Ser # 56-4366;..."
      ]
     },
     "execution_count": 14,
     "metadata": {},
     "output_type": "execute_result"
    }
   ],
   "source": [
    "# Creating a dataframe of the raw data\n",
    "fixedwing_df = pd.DataFrame(fixedwing_losses, columns = [\"All_Info\"])\n",
    "fixedwing_df.head()"
   ]
  },
  {
   "cell_type": "code",
   "execution_count": 15,
   "id": "1302adbd",
   "metadata": {},
   "outputs": [],
   "source": [
    "# Exporting raw data to csv. So we don't have to run a large scrape again each time we open & update our ETL/data cleaning file.\n",
    "fixedwing_df.to_csv('Vietnam_All_Fixedwing_Losses_Raw_Data.csv', index=False)"
   ]
  },
  {
   "cell_type": "code",
   "execution_count": null,
   "id": "ef78f99c",
   "metadata": {},
   "outputs": [],
   "source": []
  }
 ],
 "metadata": {
  "kernelspec": {
   "display_name": "Python 3 (ipykernel)",
   "language": "python",
   "name": "python3"
  },
  "language_info": {
   "codemirror_mode": {
    "name": "ipython",
    "version": 3
   },
   "file_extension": ".py",
   "mimetype": "text/x-python",
   "name": "python",
   "nbconvert_exporter": "python",
   "pygments_lexer": "ipython3",
   "version": "3.9.12"
  }
 },
 "nbformat": 4,
 "nbformat_minor": 5
}
