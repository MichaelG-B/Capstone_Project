{
 "cells": [
  {
   "cell_type": "markdown",
   "metadata": {},
   "source": [
    "# Segment 1 - Machine Learning Model Mock-up \n",
    "### Sam Boester 10/23/2022"
   ]
  },
  {
   "cell_type": "code",
   "execution_count": 2,
   "metadata": {},
   "outputs": [
    {
     "name": "stdout",
     "output_type": "stream",
     "text": [
      "Collecting psycopg2\n",
      "  Downloading psycopg2-2.9.5-cp37-cp37m-win_amd64.whl (1.2 MB)\n",
      "Installing collected packages: psycopg2\n",
      "Successfully installed psycopg2-2.9.5\n",
      "Note: you may need to restart the kernel to use updated packages.\n"
     ]
    }
   ],
   "source": [
    "pip install psycopg2"
   ]
  },
  {
   "cell_type": "code",
   "execution_count": 3,
   "metadata": {},
   "outputs": [],
   "source": [
    "# dependencies\n",
    "\n",
    "import pandas as pd\n",
    "import psycopg2 as pg\n",
    "import plotly.express as px\n",
    "from sklearn.metrics import balanced_accuracy_score\n",
    "from sklearn.metrics import confusion_matrix\n",
    "from imblearn.metrics import classification_report_imbalanced\n",
    "from sklearn.model_selection import train_test_split\n",
    "from collections import Counter\n",
    "from imblearn.ensemble import BalancedRandomForestClassifier"
   ]
  },
  {
   "cell_type": "code",
   "execution_count": null,
   "metadata": {},
   "outputs": [],
   "source": [
    "\n",
    "# Posgres Connection\n",
    "\n",
    "# engine = pg.connect(\"dbname='rental_db' user='postgres' host='127.0.0.1' port='5432' password='XXXXXX'\")\n",
    "# df = pd.read_sql('select * from actor', con=engine)\n",
    "\n",
    "# Confirming that dataframe created.\n",
    "# df.head()"
   ]
  },
  {
   "cell_type": "code",
   "execution_count": 5,
   "metadata": {},
   "outputs": [
    {
     "data": {
      "text/html": [
       "<div>\n",
       "<style scoped>\n",
       "    .dataframe tbody tr th:only-of-type {\n",
       "        vertical-align: middle;\n",
       "    }\n",
       "\n",
       "    .dataframe tbody tr th {\n",
       "        vertical-align: top;\n",
       "    }\n",
       "\n",
       "    .dataframe thead th {\n",
       "        text-align: right;\n",
       "    }\n",
       "</style>\n",
       "<table border=\"1\" class=\"dataframe\">\n",
       "  <thead>\n",
       "    <tr style=\"text-align: right;\">\n",
       "      <th></th>\n",
       "      <th>Crash Date</th>\n",
       "      <th>Crash Time</th>\n",
       "      <th>Aircraft Type</th>\n",
       "      <th>Aircraft S/N</th>\n",
       "      <th>Base</th>\n",
       "      <th>Wing</th>\n",
       "      <th>Squadron</th>\n",
       "      <th>Call Sign</th>\n",
       "      <th>Operations Code</th>\n",
       "      <th>Mission Type</th>\n",
       "      <th>...</th>\n",
       "      <th>Pilot Egress</th>\n",
       "      <th>Pilot Status</th>\n",
       "      <th>Pilot Condition</th>\n",
       "      <th>Pilot Recovered</th>\n",
       "      <th>Co-Pilot/Nav Rank</th>\n",
       "      <th>Co-Pilot/Nav</th>\n",
       "      <th>Co-Pilot/Nav Egress</th>\n",
       "      <th>Co-Pilot/Nav Status</th>\n",
       "      <th>Co-Pilot/Nav Condition</th>\n",
       "      <th>Co-Pilot Recovered</th>\n",
       "    </tr>\n",
       "  </thead>\n",
       "  <tbody>\n",
       "    <tr>\n",
       "      <th>0</th>\n",
       "      <td>620202</td>\n",
       "      <td>_</td>\n",
       "      <td>C-123B</td>\n",
       "      <td>564370</td>\n",
       "      <td>TSN</td>\n",
       "      <td>464TCW</td>\n",
       "      <td>_</td>\n",
       "      <td>_</td>\n",
       "      <td>IC</td>\n",
       "      <td>NaN</td>\n",
       "      <td>...</td>\n",
       "      <td>Crash</td>\n",
       "      <td>KIA</td>\n",
       "      <td>_</td>\n",
       "      <td>_</td>\n",
       "      <td>Capt</td>\n",
       "      <td>Larsen R. D.</td>\n",
       "      <td>Crash</td>\n",
       "      <td>KIA</td>\n",
       "      <td>_</td>\n",
       "      <td>_</td>\n",
       "    </tr>\n",
       "    <tr>\n",
       "      <th>1</th>\n",
       "      <td>620211</td>\n",
       "      <td>_</td>\n",
       "      <td>SC-47A</td>\n",
       "      <td>4315732</td>\n",
       "      <td>BHA</td>\n",
       "      <td>_</td>\n",
       "      <td>4400CCTS</td>\n",
       "      <td>_</td>\n",
       "      <td>IC</td>\n",
       "      <td>NaN</td>\n",
       "      <td>...</td>\n",
       "      <td>Crash</td>\n",
       "      <td>KIA</td>\n",
       "      <td>_</td>\n",
       "      <td>_</td>\n",
       "      <td>Capt</td>\n",
       "      <td>Hartson S. G.</td>\n",
       "      <td>Crash</td>\n",
       "      <td>KIA</td>\n",
       "      <td>_</td>\n",
       "      <td>_</td>\n",
       "    </tr>\n",
       "    <tr>\n",
       "      <th>2</th>\n",
       "      <td>620613</td>\n",
       "      <td>_</td>\n",
       "      <td>T-28B</td>\n",
       "      <td>0</td>\n",
       "      <td>_</td>\n",
       "      <td>_</td>\n",
       "      <td>_</td>\n",
       "      <td>_</td>\n",
       "      <td>IC</td>\n",
       "      <td>NaN</td>\n",
       "      <td>...</td>\n",
       "      <td>_</td>\n",
       "      <td>Recovered</td>\n",
       "      <td>Uninjured</td>\n",
       "      <td>_</td>\n",
       "      <td>u</td>\n",
       "      <td>_</td>\n",
       "      <td>_</td>\n",
       "      <td>_</td>\n",
       "      <td>_</td>\n",
       "      <td>_</td>\n",
       "    </tr>\n",
       "    <tr>\n",
       "      <th>3</th>\n",
       "      <td>620828</td>\n",
       "      <td>_</td>\n",
       "      <td>T-28B</td>\n",
       "      <td>538376</td>\n",
       "      <td>_</td>\n",
       "      <td>_</td>\n",
       "      <td>_</td>\n",
       "      <td>_</td>\n",
       "      <td>IC</td>\n",
       "      <td>NaN</td>\n",
       "      <td>...</td>\n",
       "      <td>_</td>\n",
       "      <td>KIA</td>\n",
       "      <td>_</td>\n",
       "      <td>_</td>\n",
       "      <td>Capt</td>\n",
       "      <td>_</td>\n",
       "      <td>_</td>\n",
       "      <td>_</td>\n",
       "      <td>_</td>\n",
       "      <td>_</td>\n",
       "    </tr>\n",
       "    <tr>\n",
       "      <th>4</th>\n",
       "      <td>621015</td>\n",
       "      <td>_</td>\n",
       "      <td>U-10</td>\n",
       "      <td>625909</td>\n",
       "      <td>_</td>\n",
       "      <td>_</td>\n",
       "      <td>_</td>\n",
       "      <td>_</td>\n",
       "      <td>IC</td>\n",
       "      <td>NaN</td>\n",
       "      <td>...</td>\n",
       "      <td>Crash</td>\n",
       "      <td>KIA</td>\n",
       "      <td>_</td>\n",
       "      <td>_</td>\n",
       "      <td>Capt</td>\n",
       "      <td>Foxx R. L.</td>\n",
       "      <td>Crash</td>\n",
       "      <td>KIA</td>\n",
       "      <td>_</td>\n",
       "      <td>_</td>\n",
       "    </tr>\n",
       "  </tbody>\n",
       "</table>\n",
       "<p>5 rows × 43 columns</p>\n",
       "</div>"
      ],
      "text/plain": [
       "   Crash Date Crash Time Aircraft Type  Aircraft S/N Base    Wing  Squadron  \\\n",
       "0      620202          _        C-123B        564370  TSN  464TCW         _   \n",
       "1      620211          _        SC-47A       4315732  BHA       _  4400CCTS   \n",
       "2      620613          _         T-28B             0    _       _         _   \n",
       "3      620828          _         T-28B        538376    _       _         _   \n",
       "4      621015          _          U-10        625909    _       _         _   \n",
       "\n",
       "  Call Sign Operations Code  Mission Type  ... Pilot Egress Pilot Status  \\\n",
       "0         _              IC           NaN  ...        Crash          KIA   \n",
       "1         _              IC           NaN  ...        Crash          KIA   \n",
       "2         _              IC           NaN  ...            _    Recovered   \n",
       "3         _              IC           NaN  ...            _          KIA   \n",
       "4         _              IC           NaN  ...        Crash          KIA   \n",
       "\n",
       "  Pilot Condition Pilot Recovered Co-Pilot/Nav Rank   Co-Pilot/Nav  \\\n",
       "0               _               _              Capt   Larsen R. D.   \n",
       "1               _               _              Capt  Hartson S. G.   \n",
       "2       Uninjured               _                 u              _   \n",
       "3               _               _              Capt              _   \n",
       "4               _               _              Capt     Foxx R. L.   \n",
       "\n",
       "   Co-Pilot/Nav Egress  Co-Pilot/Nav Status  Co-Pilot/Nav Condition  \\\n",
       "0                Crash                  KIA                       _   \n",
       "1                Crash                  KIA                       _   \n",
       "2                    _                    _                       _   \n",
       "3                    _                    _                       _   \n",
       "4                Crash                  KIA                       _   \n",
       "\n",
       "   Co-Pilot Recovered  \n",
       "0                   _  \n",
       "1                   _  \n",
       "2                   _  \n",
       "3                   _  \n",
       "4                   _  \n",
       "\n",
       "[5 rows x 43 columns]"
      ]
     },
     "execution_count": 5,
     "metadata": {},
     "output_type": "execute_result"
    }
   ],
   "source": [
    "# Loading Mock CVS, this will be updated to a posgres connection in future segments\n",
    "\n",
    "# read in CVS\n",
    "\n",
    "\n",
    "file_path = \"resources\\Vietnam_USAF_Losses_Cleaned_Data.csv\"\n",
    "\n",
    "usaf_df = pd.read_csv(file_path)\n",
    "\n",
    "usaf_df.head()\n",
    "\n",
    "\n"
   ]
  },
  {
   "cell_type": "markdown",
   "metadata": {},
   "source": [
    "## Pre-Model Cleaning"
   ]
  },
  {
   "cell_type": "code",
   "execution_count": null,
   "metadata": {},
   "outputs": [],
   "source": [
    "# Capture capture variables for model\". \n",
    "\n",
    "usaf_df_model = usaf_df.filter(['Crash Date','Aircraft Type','Base', 'Hit Country', 'Loss Longitude', 'Loss Latitude', 'Pilot Status'], axis=1)\n",
    "\n",
    "usaf_df_model.head()"
   ]
  },
  {
   "cell_type": "code",
   "execution_count": null,
   "metadata": {},
   "outputs": [],
   "source": [
    "# remove spaces from column names\"\n",
    "usaf_df_model.columns = usaf_df_model.columns.str.replace(' ', '')\n",
    "\n",
    "usaf_df_model.head()"
   ]
  },
  {
   "cell_type": "code",
   "execution_count": null,
   "metadata": {},
   "outputs": [],
   "source": [
    "# Remove rows that have string value \"_\".  For some reason I couldnt chanin the code to do all columns in one line\n",
    "\n",
    "#update to a loop? like the below sample code?\n",
    "\n",
    "#for col in cols_to_check:\n",
    "    #df[col] = df[col].map(lambda x: x.replace(';',''))\n",
    "\n",
    "usaf_df_modelv2 = usaf_df_model[usaf_df_model[\"LossLongitude\"].str.contains(\"_\")==False]\n",
    "\n",
    "usaf_df_modelv3 = usaf_df_modelv2[usaf_df_modelv2[\"AircraftType\"].str.contains(\"_\")==False]\n",
    "\n",
    "usaf_df_modelv4 = usaf_df_modelv3[usaf_df_modelv3[\"Base\"].str.contains(\"_\")==False]\n",
    "\n",
    "usaf_df_modelv5 = usaf_df_modelv4[usaf_df_modelv4[\"HitCountry\"].str.contains(\"_\")==False]\n",
    "\n",
    "usaf_df_modelv6 = usaf_df_modelv5[usaf_df_modelv5[\"PilotStatus\"].str.contains(\"_\")==False]\n",
    "\n",
    "usaf_cleaned_nulls = usaf_df_modelv6[usaf_df_modelv6[\"LossLatitude\"].str.contains(\"_\")==False]\n",
    "\n",
    "usaf_cleaned_nulls.head(20)"
   ]
  },
  {
   "cell_type": "code",
   "execution_count": null,
   "metadata": {},
   "outputs": [],
   "source": [
    "#Start with dummy coding text variables\n",
    "\n",
    "usaf_df_dummy = pd.get_dummies(usaf_cleaned_nulls, columns=[\"AircraftType\", \"Base\", \"HitCountry\"])\n",
    "\n",
    "usaf_df_dummy.head()"
   ]
  },
  {
   "cell_type": "code",
   "execution_count": null,
   "metadata": {},
   "outputs": [],
   "source": [
    "# Clean Target variable pilot status - Get labels and counts\n",
    "\n",
    "usaf_df_dummy[\"PilotStatus\"].value_counts()\n",
    "\n"
   ]
  },
  {
   "cell_type": "code",
   "execution_count": null,
   "metadata": {},
   "outputs": [],
   "source": [
    "# Clean Target variable pilot status - Create Binomial with dictionary.map\n",
    "\n",
    "recovered = {'Recovered': 1, 'KIA': 0,'POW (returned)': 1,'MIA': 0,'POW (died)': 0,'POW': 1,'KIA (chute failure)': 0,'Recoverd': 1, 'u': 0, \n",
    "    'KIA (chute failed)': 0, 'Recovered DaNang': 1, 'POW (died in captivity)':0, 'Recovered (chute fail)': 1,'recovered': 1,'KIA,body MIA,PJ abandnd': 1, 'POW (died in captivity)': 0}\n",
    "\n",
    "\n",
    "usaf_df_dummy[\"Target\"] = usaf_df_dummy[\"PilotStatus\"].map(recovered)\n",
    "\n",
    "usaf_df_dummy[\"Target\"].value_counts"
   ]
  },
  {
   "cell_type": "markdown",
   "metadata": {},
   "source": [
    "## Random Forest Draft"
   ]
  },
  {
   "cell_type": "markdown",
   "metadata": {},
   "source": [
    "### During the assignment we will test different supervised models to determine,\n",
    "### if pilot survival could be predicted by aircraft, artillery, and location data from the Vietnam War. "
   ]
  },
  {
   "cell_type": "code",
   "execution_count": null,
   "metadata": {},
   "outputs": [],
   "source": [
    "# Create feature Variables\n",
    "\n",
    "Y = usaf_df_dummy[\"Target\"]\n",
    "\n",
    "x = usaf_df_dummy.drop([\"Target\", \"PilotStatus\"], axis=1)\n",
    "\n",
    "X.head()"
   ]
  },
  {
   "cell_type": "code",
   "execution_count": null,
   "metadata": {},
   "outputs": [],
   "source": [
    "# Check the balance of our target values - We have greater than 1000 and the target of recovered versus non-recovered is roughly proportional\n",
    "y.value_counts()"
   ]
  },
  {
   "cell_type": "code",
   "execution_count": null,
   "metadata": {},
   "outputs": [],
   "source": [
    "# Splitting into Train and Test sets - modify\n",
    "X_train, X_test, y_train, y_test = train_test_split(X, y, random_state=78)"
   ]
  },
  {
   "cell_type": "code",
   "execution_count": null,
   "metadata": {},
   "outputs": [],
   "source": [
    "# Resample the training data with the BalancedRandomForestClassifier - may need to change estimator count\n",
    "# create model instance\n",
    "\n",
    "brfc = BalancedRandomForestClassifier(n_estimators=100, random_state=1)\n",
    "\n",
    "modle=brfc.fit(X_train, y_train)"
   ]
  },
  {
   "cell_type": "code",
   "execution_count": null,
   "metadata": {},
   "outputs": [],
   "source": [
    "# Calculated the balanced accuracy score\n",
    "y_pred = brfc.predict(X_test)\n",
    "balanced_accuracy_score(y_test, y_pred)"
   ]
  },
  {
   "cell_type": "code",
   "execution_count": null,
   "metadata": {},
   "outputs": [],
   "source": [
    "# Display the confusion matrix\n",
    "confusion_matrix(y_test, y_pred)"
   ]
  },
  {
   "cell_type": "code",
   "execution_count": null,
   "metadata": {},
   "outputs": [],
   "source": [
    "# Print the imbalanced classification report\n",
    "print(classification_report_imbalanced(y_test, y_pred))"
   ]
  },
  {
   "cell_type": "markdown",
   "metadata": {},
   "source": [
    "# Logistic Reression Draft"
   ]
  },
  {
   "cell_type": "markdown",
   "metadata": {},
   "source": [
    "#### For a basic logistic regression model we will test different sampling techniques through out the assignment"
   ]
  },
  {
   "cell_type": "markdown",
   "metadata": {},
   "source": [
    "Random Oversampling"
   ]
  },
  {
   "cell_type": "code",
   "execution_count": 65,
   "metadata": {},
   "outputs": [
    {
     "data": {
      "text/plain": [
       "Counter({1: 566, 0: 566})"
      ]
     },
     "execution_count": 65,
     "metadata": {},
     "output_type": "execute_result"
    }
   ],
   "source": [
    "from imblearn.over_sampling import RandomOverSampler\n",
    "\n",
    "ros = RandomOverSampler(random_state=1)\n",
    "X_resampled, y_resampled = ros.fit_resample(X_train, y_train)\n",
    "\n",
    "Counter(y_resampled)"
   ]
  },
  {
   "cell_type": "code",
   "execution_count": null,
   "metadata": {},
   "outputs": [],
   "source": [
    "from sklearn.linear_model import LogisticRegression\n",
    "\n",
    "model = LogisticRegression(solver='lbfgs', random_state=1)\n",
    "\n",
    "model.fit(X_resampled, y_resampled)"
   ]
  },
  {
   "cell_type": "code",
   "execution_count": null,
   "metadata": {},
   "outputs": [],
   "source": [
    "from sklearn.metrics import balanced_accuracy_score\n",
    "\n",
    "y_pred = model.predict(X_test)\n",
    "balanced_accuracy_score(y_test, y_pred)"
   ]
  },
  {
   "cell_type": "code",
   "execution_count": null,
   "metadata": {},
   "outputs": [],
   "source": [
    "confusion_matrix(y_test, y_pred)"
   ]
  },
  {
   "cell_type": "code",
   "execution_count": null,
   "metadata": {},
   "outputs": [],
   "source": [
    "# Print the imbalanced classification report\n",
    "from imblearn.metrics import classification_report_imbalanced\n",
    "\n",
    "print(classification_report_imbalanced(y_test, y_pred))"
   ]
  },
  {
   "cell_type": "markdown",
   "metadata": {},
   "source": [
    "SMOTE Oversampling"
   ]
  },
  {
   "cell_type": "code",
   "execution_count": null,
   "metadata": {},
   "outputs": [],
   "source": [
    "from imblearn.over_sampling import SMOTE\n",
    "\n",
    "X_resampled, y_resampled = SMOTE(random_state=1, sampling_strategy=1.0).fit_resample(\n",
    "    X_train, y_train\n",
    ")\n",
    "from collections import Counter\n",
    "\n",
    "Counter(y_resampled)"
   ]
  },
  {
   "cell_type": "code",
   "execution_count": null,
   "metadata": {},
   "outputs": [],
   "source": [
    "# Train the Logistic Regression model using the resampled data\n",
    "model = LogisticRegression(solver='lbfgs', random_state=1)\n",
    "model.fit(X_resampled, y_resampled)"
   ]
  },
  {
   "cell_type": "code",
   "execution_count": null,
   "metadata": {},
   "outputs": [],
   "source": [
    "# Calculated the balanced accuracy score\n",
    "y_pred = model.predict(X_test)\n",
    "balanced_accuracy_score(y_test, y_pred)"
   ]
  },
  {
   "cell_type": "code",
   "execution_count": null,
   "metadata": {},
   "outputs": [],
   "source": [
    "# Display the confusion matrix\n",
    "confusion_matrix(y_test, y_pred)"
   ]
  },
  {
   "cell_type": "code",
   "execution_count": null,
   "metadata": {},
   "outputs": [],
   "source": [
    "# Print the imbalanced classification report\n",
    "print(classification_report_imbalanced(y_test, y_pred))"
   ]
  },
  {
   "cell_type": "code",
   "execution_count": null,
   "metadata": {},
   "outputs": [],
   "source": [
    "# Resample the data using the ClusterCentroids resampler\n",
    "\n",
    "from imblearn.under_sampling import ClusterCentroids\n",
    "\n",
    "cluster = ClusterCentroids(random_state=1)\n",
    "X_resampled, y_resampled = cluster.fit_resample(X_train, y_train)\n",
    "\n",
    "Counter(y_resampled)"
   ]
  },
  {
   "cell_type": "code",
   "execution_count": null,
   "metadata": {},
   "outputs": [],
   "source": [
    "# Train Model\n",
    "\n",
    "model = LogisticRegression(solver='lbfgs', random_state=1)\n",
    "model.fit(X_resampled, y_resampled)"
   ]
  },
  {
   "cell_type": "code",
   "execution_count": null,
   "metadata": {},
   "outputs": [],
   "source": [
    "# Calculated the balanced accuracy score\n",
    "y_pred = model.predict(X_test)\n",
    "balanced_accuracy_score(y_test, y_pred)"
   ]
  },
  {
   "cell_type": "code",
   "execution_count": null,
   "metadata": {},
   "outputs": [],
   "source": [
    "# Display the confusion matrix\n",
    "confusion_matrix(y_test, y_pred)"
   ]
  },
  {
   "cell_type": "code",
   "execution_count": null,
   "metadata": {},
   "outputs": [],
   "source": [
    "# Print the imbalanced classification report\n",
    "print(classification_report_imbalanced(y_test, y_pred))"
   ]
  },
  {
   "cell_type": "markdown",
   "metadata": {},
   "source": [
    "### SMOTEEN"
   ]
  },
  {
   "cell_type": "code",
   "execution_count": null,
   "metadata": {},
   "outputs": [],
   "source": [
    "from imblearn.combine import SMOTEENN\n",
    "\n",
    "smoteenn = SMOTEENN(random_state=1)\n",
    "X_resampled, y_resampled = smoteenn.fit_resample(X_train, y_train)\n",
    "Counter(y_resampled)"
   ]
  },
  {
   "cell_type": "code",
   "execution_count": null,
   "metadata": {},
   "outputs": [],
   "source": [
    "model = LogisticRegression(solver='lbfgs', random_state=1)\n",
    "model.fit(X_resampled, y_resampled)"
   ]
  },
  {
   "cell_type": "code",
   "execution_count": null,
   "metadata": {},
   "outputs": [],
   "source": [
    "# Calculated the balanced accuracy score\n",
    "y_pred = model.predict(X_test)\n",
    "balanced_accuracy_score(y_test, y_pred)"
   ]
  },
  {
   "cell_type": "code",
   "execution_count": null,
   "metadata": {},
   "outputs": [],
   "source": [
    "# Display the confusion matrix\n",
    "confusion_matrix(y_test, y_pred)"
   ]
  },
  {
   "cell_type": "code",
   "execution_count": null,
   "metadata": {},
   "outputs": [],
   "source": [
    "# Print the imbalanced classification report\n",
    "print(classification_report_imbalanced(y_test, y_pred))"
   ]
  }
 ],
 "metadata": {
  "kernelspec": {
   "display_name": "Python 3.7.13 ('mlenv')",
   "language": "python",
   "name": "python3"
  },
  "language_info": {
   "codemirror_mode": {
    "name": "ipython",
    "version": 3
   },
   "file_extension": ".py",
   "mimetype": "text/x-python",
   "name": "python",
   "nbconvert_exporter": "python",
   "pygments_lexer": "ipython3",
   "version": "3.7.13"
  },
  "orig_nbformat": 4,
  "vscode": {
   "interpreter": {
    "hash": "ad5fa9e3a671c3587a56cf244b9b1e097aebad75e4187f2af121036c4fd2b351"
   }
  }
 },
 "nbformat": 4,
 "nbformat_minor": 2
}
