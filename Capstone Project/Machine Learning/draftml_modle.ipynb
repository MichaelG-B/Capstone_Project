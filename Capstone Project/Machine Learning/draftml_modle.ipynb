{
 "cells": [
  {
   "cell_type": "markdown",
   "metadata": {},
   "source": [
    "# Segment 2 - Machine Learning Model Refinement \n"
   ]
  },
  {
   "cell_type": "code",
   "execution_count": 1,
   "metadata": {},
   "outputs": [],
   "source": [
    "# dependencies\n",
    "\n",
    "import pandas as pd\n",
    "import psycopg2 as pg\n",
    "import plotly.express as px\n",
    "from sklearn.metrics import balanced_accuracy_score\n",
    "from sklearn.metrics import confusion_matrix\n",
    "from imblearn.metrics import classification_report_imbalanced\n",
    "from sklearn.model_selection import train_test_split\n",
    "from collections import Counter\n",
    "from imblearn.ensemble import BalancedRandomForestClassifier\n",
    "from sqlalchemy import create_engine"
   ]
  },
  {
   "cell_type": "code",
   "execution_count": 3,
   "metadata": {},
   "outputs": [
    {
     "data": {
      "text/html": [
       "<div>\n",
       "<style scoped>\n",
       "    .dataframe tbody tr th:only-of-type {\n",
       "        vertical-align: middle;\n",
       "    }\n",
       "\n",
       "    .dataframe tbody tr th {\n",
       "        vertical-align: top;\n",
       "    }\n",
       "\n",
       "    .dataframe thead th {\n",
       "        text-align: right;\n",
       "    }\n",
       "</style>\n",
       "<table border=\"1\" class=\"dataframe\">\n",
       "  <thead>\n",
       "    <tr style=\"text-align: right;\">\n",
       "      <th></th>\n",
       "      <th>index</th>\n",
       "      <th>Crash_Date</th>\n",
       "      <th>Crash_Time</th>\n",
       "      <th>Aircraft_Type</th>\n",
       "      <th>Aircraft_SN</th>\n",
       "      <th>Base</th>\n",
       "      <th>Wing</th>\n",
       "      <th>Squadron</th>\n",
       "      <th>Call_Sign</th>\n",
       "      <th>Operations_Code</th>\n",
       "      <th>...</th>\n",
       "      <th>Pilot_Egress</th>\n",
       "      <th>Pilot_Status</th>\n",
       "      <th>Pilot_Condition</th>\n",
       "      <th>Pilot_Recovered</th>\n",
       "      <th>Co_Pilot_Nav_Rank</th>\n",
       "      <th>Co_Pilot_Nav</th>\n",
       "      <th>Co_Pilot_Nav_Egress</th>\n",
       "      <th>Co_Pilot_Nav_Status</th>\n",
       "      <th>Co_Pilot_Nav_Condition</th>\n",
       "      <th>Co_Pilot_Recovered</th>\n",
       "    </tr>\n",
       "  </thead>\n",
       "  <tbody>\n",
       "    <tr>\n",
       "      <th>0</th>\n",
       "      <td>0</td>\n",
       "      <td>1962-02-02</td>\n",
       "      <td>_</td>\n",
       "      <td>C-123B</td>\n",
       "      <td>564370</td>\n",
       "      <td>TSN</td>\n",
       "      <td>464TCW</td>\n",
       "      <td>_</td>\n",
       "      <td>_</td>\n",
       "      <td>IC</td>\n",
       "      <td>...</td>\n",
       "      <td>Crash</td>\n",
       "      <td>KIA</td>\n",
       "      <td>_</td>\n",
       "      <td>_</td>\n",
       "      <td>Capt</td>\n",
       "      <td>Larsen R. D.</td>\n",
       "      <td>Crash</td>\n",
       "      <td>KIA</td>\n",
       "      <td>_</td>\n",
       "      <td>_</td>\n",
       "    </tr>\n",
       "    <tr>\n",
       "      <th>1</th>\n",
       "      <td>1</td>\n",
       "      <td>1962-02-11</td>\n",
       "      <td>_</td>\n",
       "      <td>SC-47A</td>\n",
       "      <td>4315732</td>\n",
       "      <td>BHA</td>\n",
       "      <td>_</td>\n",
       "      <td>4400CCTS</td>\n",
       "      <td>_</td>\n",
       "      <td>IC</td>\n",
       "      <td>...</td>\n",
       "      <td>Crash</td>\n",
       "      <td>KIA</td>\n",
       "      <td>_</td>\n",
       "      <td>_</td>\n",
       "      <td>Capt</td>\n",
       "      <td>Hartson S. G.</td>\n",
       "      <td>Crash</td>\n",
       "      <td>KIA</td>\n",
       "      <td>_</td>\n",
       "      <td>_</td>\n",
       "    </tr>\n",
       "    <tr>\n",
       "      <th>2</th>\n",
       "      <td>3</td>\n",
       "      <td>1962-08-28</td>\n",
       "      <td>_</td>\n",
       "      <td>T-28B</td>\n",
       "      <td>538376</td>\n",
       "      <td>_</td>\n",
       "      <td>_</td>\n",
       "      <td>_</td>\n",
       "      <td>_</td>\n",
       "      <td>IC</td>\n",
       "      <td>...</td>\n",
       "      <td>_</td>\n",
       "      <td>KIA</td>\n",
       "      <td>_</td>\n",
       "      <td>_</td>\n",
       "      <td>Capt</td>\n",
       "      <td>_</td>\n",
       "      <td>_</td>\n",
       "      <td>_</td>\n",
       "      <td>_</td>\n",
       "      <td>_</td>\n",
       "    </tr>\n",
       "    <tr>\n",
       "      <th>3</th>\n",
       "      <td>4</td>\n",
       "      <td>1962-10-15</td>\n",
       "      <td>_</td>\n",
       "      <td>U-10</td>\n",
       "      <td>625909</td>\n",
       "      <td>_</td>\n",
       "      <td>_</td>\n",
       "      <td>_</td>\n",
       "      <td>_</td>\n",
       "      <td>IC</td>\n",
       "      <td>...</td>\n",
       "      <td>Crash</td>\n",
       "      <td>KIA</td>\n",
       "      <td>_</td>\n",
       "      <td>_</td>\n",
       "      <td>Capt</td>\n",
       "      <td>Foxx R. L.</td>\n",
       "      <td>Crash</td>\n",
       "      <td>KIA</td>\n",
       "      <td>_</td>\n",
       "      <td>_</td>\n",
       "    </tr>\n",
       "    <tr>\n",
       "      <th>4</th>\n",
       "      <td>5</td>\n",
       "      <td>1962-10-16</td>\n",
       "      <td>_</td>\n",
       "      <td>T-28B</td>\n",
       "      <td>538365</td>\n",
       "      <td>_</td>\n",
       "      <td>_</td>\n",
       "      <td>_</td>\n",
       "      <td>_</td>\n",
       "      <td>IC</td>\n",
       "      <td>...</td>\n",
       "      <td>Ejection</td>\n",
       "      <td>Recovered</td>\n",
       "      <td>Minor injuries</td>\n",
       "      <td>_</td>\n",
       "      <td>Capt</td>\n",
       "      <td>_</td>\n",
       "      <td>_</td>\n",
       "      <td>_</td>\n",
       "      <td>_</td>\n",
       "      <td>_</td>\n",
       "    </tr>\n",
       "  </tbody>\n",
       "</table>\n",
       "<p>5 rows × 44 columns</p>\n",
       "</div>"
      ],
      "text/plain": [
       "   index Crash_Date Crash_Time Aircraft_Type  Aircraft_SN Base    Wing  \\\n",
       "0      0 1962-02-02          _        C-123B       564370  TSN  464TCW   \n",
       "1      1 1962-02-11          _        SC-47A      4315732  BHA       _   \n",
       "2      3 1962-08-28          _         T-28B       538376    _       _   \n",
       "3      4 1962-10-15          _          U-10       625909    _       _   \n",
       "4      5 1962-10-16          _         T-28B       538365    _       _   \n",
       "\n",
       "   Squadron Call_Sign Operations_Code  ... Pilot_Egress Pilot_Status  \\\n",
       "0         _         _              IC  ...        Crash          KIA   \n",
       "1  4400CCTS         _              IC  ...        Crash          KIA   \n",
       "2         _         _              IC  ...            _          KIA   \n",
       "3         _         _              IC  ...        Crash          KIA   \n",
       "4         _         _              IC  ...     Ejection    Recovered   \n",
       "\n",
       "  Pilot_Condition Pilot_Recovered Co_Pilot_Nav_Rank   Co_Pilot_Nav  \\\n",
       "0               _               _              Capt   Larsen R. D.   \n",
       "1               _               _              Capt  Hartson S. G.   \n",
       "2               _               _              Capt              _   \n",
       "3               _               _              Capt     Foxx R. L.   \n",
       "4  Minor injuries               _              Capt              _   \n",
       "\n",
       "  Co_Pilot_Nav_Egress  Co_Pilot_Nav_Status  Co_Pilot_Nav_Condition  \\\n",
       "0               Crash                  KIA                       _   \n",
       "1               Crash                  KIA                       _   \n",
       "2                   _                    _                       _   \n",
       "3               Crash                  KIA                       _   \n",
       "4                   _                    _                       _   \n",
       "\n",
       "   Co_Pilot_Recovered  \n",
       "0                   _  \n",
       "1                   _  \n",
       "2                   _  \n",
       "3                   _  \n",
       "4                   _  \n",
       "\n",
       "[5 rows x 44 columns]"
      ]
     },
     "execution_count": 3,
     "metadata": {},
     "output_type": "execute_result"
    }
   ],
   "source": [
    "\n",
    "# Posgres Connection\n",
    "\n",
    "engine = pg.connect(\"dbname='Capstone_Project' user='postgres' host='127.0.0.1' port='5432' password='samboest'\")\n",
    "usaf_df = pd.read_sql(\"select * from usaf_table\", con=engine)\n",
    "\n",
    "# Confirming that dataframe created.\n",
    "usaf_df.head()"
   ]
  },
  {
   "cell_type": "markdown",
   "metadata": {},
   "source": [
    "## Pre-Model Cleaning"
   ]
  },
  {
   "cell_type": "code",
   "execution_count": 4,
   "metadata": {},
   "outputs": [
    {
     "data": {
      "text/html": [
       "<div>\n",
       "<style scoped>\n",
       "    .dataframe tbody tr th:only-of-type {\n",
       "        vertical-align: middle;\n",
       "    }\n",
       "\n",
       "    .dataframe tbody tr th {\n",
       "        vertical-align: top;\n",
       "    }\n",
       "\n",
       "    .dataframe thead th {\n",
       "        text-align: right;\n",
       "    }\n",
       "</style>\n",
       "<table border=\"1\" class=\"dataframe\">\n",
       "  <thead>\n",
       "    <tr style=\"text-align: right;\">\n",
       "      <th></th>\n",
       "      <th>Crash_Date</th>\n",
       "      <th>Aircraft_Type</th>\n",
       "      <th>Base</th>\n",
       "      <th>Defense_Type</th>\n",
       "      <th>Mission_Phase</th>\n",
       "      <th>Pilot_Status</th>\n",
       "    </tr>\n",
       "  </thead>\n",
       "  <tbody>\n",
       "    <tr>\n",
       "      <th>0</th>\n",
       "      <td>1962-02-02</td>\n",
       "      <td>C-123B</td>\n",
       "      <td>TSN</td>\n",
       "      <td>_</td>\n",
       "      <td>Enroute</td>\n",
       "      <td>KIA</td>\n",
       "    </tr>\n",
       "    <tr>\n",
       "      <th>1</th>\n",
       "      <td>1962-02-11</td>\n",
       "      <td>SC-47A</td>\n",
       "      <td>BHA</td>\n",
       "      <td>Gunfire (combat associated)</td>\n",
       "      <td>_</td>\n",
       "      <td>KIA</td>\n",
       "    </tr>\n",
       "    <tr>\n",
       "      <th>2</th>\n",
       "      <td>1962-08-28</td>\n",
       "      <td>T-28B</td>\n",
       "      <td>_</td>\n",
       "      <td>Gunfire</td>\n",
       "      <td>_</td>\n",
       "      <td>KIA</td>\n",
       "    </tr>\n",
       "    <tr>\n",
       "      <th>3</th>\n",
       "      <td>1962-10-15</td>\n",
       "      <td>U-10</td>\n",
       "      <td>_</td>\n",
       "      <td>Gunfire</td>\n",
       "      <td>_</td>\n",
       "      <td>KIA</td>\n",
       "    </tr>\n",
       "    <tr>\n",
       "      <th>4</th>\n",
       "      <td>1962-10-16</td>\n",
       "      <td>T-28B</td>\n",
       "      <td>_</td>\n",
       "      <td>Gunfire</td>\n",
       "      <td>_</td>\n",
       "      <td>Recovered</td>\n",
       "    </tr>\n",
       "  </tbody>\n",
       "</table>\n",
       "</div>"
      ],
      "text/plain": [
       "  Crash_Date Aircraft_Type Base                 Defense_Type Mission_Phase  \\\n",
       "0 1962-02-02        C-123B  TSN                            _       Enroute   \n",
       "1 1962-02-11        SC-47A  BHA  Gunfire (combat associated)             _   \n",
       "2 1962-08-28         T-28B    _                      Gunfire             _   \n",
       "3 1962-10-15          U-10    _                      Gunfire             _   \n",
       "4 1962-10-16         T-28B    _                      Gunfire             _   \n",
       "\n",
       "  Pilot_Status  \n",
       "0          KIA  \n",
       "1          KIA  \n",
       "2          KIA  \n",
       "3          KIA  \n",
       "4    Recovered  "
      ]
     },
     "execution_count": 4,
     "metadata": {},
     "output_type": "execute_result"
    }
   ],
   "source": [
    "# Capture capture variables for model\". \n",
    "\n",
    "usaf_df_model = usaf_df.filter(['Crash_Date','Aircraft_Type','Base', 'Defense_Type', 'Mission_Phase', 'Pilot_Status'], axis=1)\n",
    "\n",
    "usaf_df_model.head()"
   ]
  },
  {
   "cell_type": "code",
   "execution_count": 5,
   "metadata": {},
   "outputs": [
    {
     "data": {
      "text/html": [
       "<div>\n",
       "<style scoped>\n",
       "    .dataframe tbody tr th:only-of-type {\n",
       "        vertical-align: middle;\n",
       "    }\n",
       "\n",
       "    .dataframe tbody tr th {\n",
       "        vertical-align: top;\n",
       "    }\n",
       "\n",
       "    .dataframe thead th {\n",
       "        text-align: right;\n",
       "    }\n",
       "</style>\n",
       "<table border=\"1\" class=\"dataframe\">\n",
       "  <thead>\n",
       "    <tr style=\"text-align: right;\">\n",
       "      <th></th>\n",
       "      <th>Crash_Date</th>\n",
       "      <th>Aircraft_Type</th>\n",
       "      <th>Base</th>\n",
       "      <th>Defense_Type</th>\n",
       "      <th>Mission_Phase</th>\n",
       "      <th>Pilot_Status</th>\n",
       "    </tr>\n",
       "  </thead>\n",
       "  <tbody>\n",
       "    <tr>\n",
       "      <th>21</th>\n",
       "      <td>1964-03-24</td>\n",
       "      <td>T-28</td>\n",
       "      <td>BHA</td>\n",
       "      <td>Gunfire</td>\n",
       "      <td>At target</td>\n",
       "      <td>KIA</td>\n",
       "    </tr>\n",
       "    <tr>\n",
       "      <th>24</th>\n",
       "      <td>1964-06-26</td>\n",
       "      <td>T-28D</td>\n",
       "      <td>BHA</td>\n",
       "      <td>Gunfire</td>\n",
       "      <td>At target</td>\n",
       "      <td>Recovered</td>\n",
       "    </tr>\n",
       "    <tr>\n",
       "      <th>25</th>\n",
       "      <td>1964-08-06</td>\n",
       "      <td>B-57B</td>\n",
       "      <td>CLK</td>\n",
       "      <td>Gunfire</td>\n",
       "      <td>Enroute</td>\n",
       "      <td>KIA</td>\n",
       "    </tr>\n",
       "    <tr>\n",
       "      <th>28</th>\n",
       "      <td>1964-08-29</td>\n",
       "      <td>A-1E</td>\n",
       "      <td>BHA</td>\n",
       "      <td>30cal AAA</td>\n",
       "      <td>Enroute</td>\n",
       "      <td>KIA</td>\n",
       "    </tr>\n",
       "    <tr>\n",
       "      <th>31</th>\n",
       "      <td>1964-09-26</td>\n",
       "      <td>A-1E</td>\n",
       "      <td>BHA</td>\n",
       "      <td>Gunfire</td>\n",
       "      <td>At target</td>\n",
       "      <td>Recovered</td>\n",
       "    </tr>\n",
       "    <tr>\n",
       "      <th>32</th>\n",
       "      <td>1964-10-02</td>\n",
       "      <td>A-1E</td>\n",
       "      <td>BHA</td>\n",
       "      <td>Gunfire</td>\n",
       "      <td>At target</td>\n",
       "      <td>KIA</td>\n",
       "    </tr>\n",
       "    <tr>\n",
       "      <th>34</th>\n",
       "      <td>1964-10-26</td>\n",
       "      <td>A-1E</td>\n",
       "      <td>TSN</td>\n",
       "      <td>Gunfire</td>\n",
       "      <td>At target</td>\n",
       "      <td>KIA</td>\n",
       "    </tr>\n",
       "    <tr>\n",
       "      <th>36</th>\n",
       "      <td>1964-11-19</td>\n",
       "      <td>T-28D</td>\n",
       "      <td>UDN</td>\n",
       "      <td>30cal AAA</td>\n",
       "      <td>Enroute</td>\n",
       "      <td>KIA</td>\n",
       "    </tr>\n",
       "    <tr>\n",
       "      <th>38</th>\n",
       "      <td>1964-12-01</td>\n",
       "      <td>A-1E</td>\n",
       "      <td>BHA</td>\n",
       "      <td>Gunfire</td>\n",
       "      <td>Enroute</td>\n",
       "      <td>Recovered</td>\n",
       "    </tr>\n",
       "    <tr>\n",
       "      <th>46</th>\n",
       "      <td>1965-03-02</td>\n",
       "      <td>F-105D</td>\n",
       "      <td>KRT</td>\n",
       "      <td>Heavy 37mm AAA</td>\n",
       "      <td>At target</td>\n",
       "      <td>Recovered</td>\n",
       "    </tr>\n",
       "    <tr>\n",
       "      <th>47</th>\n",
       "      <td>1965-03-02</td>\n",
       "      <td>F-100D</td>\n",
       "      <td>DNG</td>\n",
       "      <td>Heavy barrage 37mm AAA</td>\n",
       "      <td>At target</td>\n",
       "      <td>POW (returned)</td>\n",
       "    </tr>\n",
       "    <tr>\n",
       "      <th>48</th>\n",
       "      <td>1965-03-02</td>\n",
       "      <td>F-105D</td>\n",
       "      <td>KRT</td>\n",
       "      <td>Heavy AAA (prob.)</td>\n",
       "      <td>At target</td>\n",
       "      <td>Recovered</td>\n",
       "    </tr>\n",
       "    <tr>\n",
       "      <th>49</th>\n",
       "      <td>1965-03-02</td>\n",
       "      <td>F-100D</td>\n",
       "      <td>TKL</td>\n",
       "      <td>Heavy automatic weapons</td>\n",
       "      <td>At target</td>\n",
       "      <td>Recovered</td>\n",
       "    </tr>\n",
       "    <tr>\n",
       "      <th>50</th>\n",
       "      <td>1965-03-02</td>\n",
       "      <td>F-105D</td>\n",
       "      <td>KRT</td>\n",
       "      <td>Light 37/57mm AAA (prob.)</td>\n",
       "      <td>At target</td>\n",
       "      <td>Recovered</td>\n",
       "    </tr>\n",
       "    <tr>\n",
       "      <th>51</th>\n",
       "      <td>1965-03-11</td>\n",
       "      <td>B-57</td>\n",
       "      <td>BHA</td>\n",
       "      <td>Gunfire</td>\n",
       "      <td>At target</td>\n",
       "      <td>KIA</td>\n",
       "    </tr>\n",
       "    <tr>\n",
       "      <th>53</th>\n",
       "      <td>1965-03-22</td>\n",
       "      <td>F-105D</td>\n",
       "      <td>KRT</td>\n",
       "      <td>Moderate 14.5mm AAA (prob.)</td>\n",
       "      <td>At target</td>\n",
       "      <td>Recovered</td>\n",
       "    </tr>\n",
       "    <tr>\n",
       "      <th>54</th>\n",
       "      <td>1965-03-31</td>\n",
       "      <td>F-100D</td>\n",
       "      <td>DNG</td>\n",
       "      <td>Light automatic weapons</td>\n",
       "      <td>At target</td>\n",
       "      <td>Recovered</td>\n",
       "    </tr>\n",
       "    <tr>\n",
       "      <th>55</th>\n",
       "      <td>1965-04-03</td>\n",
       "      <td>F-100D</td>\n",
       "      <td>DNG</td>\n",
       "      <td>Heavy 57mm AAA (prob. combat associated)</td>\n",
       "      <td>At target</td>\n",
       "      <td>KIA</td>\n",
       "    </tr>\n",
       "    <tr>\n",
       "      <th>57</th>\n",
       "      <td>1965-04-04</td>\n",
       "      <td>F-105D</td>\n",
       "      <td>KRT</td>\n",
       "      <td>Gunfire</td>\n",
       "      <td>At target</td>\n",
       "      <td>POW (returned)</td>\n",
       "    </tr>\n",
       "    <tr>\n",
       "      <th>58</th>\n",
       "      <td>1965-04-04</td>\n",
       "      <td>F-105D</td>\n",
       "      <td>KRT</td>\n",
       "      <td>MiG cannon fire (prob. MiG-17)</td>\n",
       "      <td>At target</td>\n",
       "      <td>KIA</td>\n",
       "    </tr>\n",
       "  </tbody>\n",
       "</table>\n",
       "</div>"
      ],
      "text/plain": [
       "   Crash_Date Aircraft_Type Base                              Defense_Type  \\\n",
       "21 1964-03-24          T-28  BHA                                   Gunfire   \n",
       "24 1964-06-26         T-28D  BHA                                   Gunfire   \n",
       "25 1964-08-06         B-57B  CLK                                   Gunfire   \n",
       "28 1964-08-29          A-1E  BHA                                 30cal AAA   \n",
       "31 1964-09-26          A-1E  BHA                                   Gunfire   \n",
       "32 1964-10-02          A-1E  BHA                                   Gunfire   \n",
       "34 1964-10-26          A-1E  TSN                                   Gunfire   \n",
       "36 1964-11-19         T-28D  UDN                                 30cal AAA   \n",
       "38 1964-12-01          A-1E  BHA                                   Gunfire   \n",
       "46 1965-03-02        F-105D  KRT                            Heavy 37mm AAA   \n",
       "47 1965-03-02        F-100D  DNG                    Heavy barrage 37mm AAA   \n",
       "48 1965-03-02        F-105D  KRT                         Heavy AAA (prob.)   \n",
       "49 1965-03-02        F-100D  TKL                   Heavy automatic weapons   \n",
       "50 1965-03-02        F-105D  KRT                 Light 37/57mm AAA (prob.)   \n",
       "51 1965-03-11          B-57  BHA                                   Gunfire   \n",
       "53 1965-03-22        F-105D  KRT               Moderate 14.5mm AAA (prob.)   \n",
       "54 1965-03-31        F-100D  DNG                   Light automatic weapons   \n",
       "55 1965-04-03        F-100D  DNG  Heavy 57mm AAA (prob. combat associated)   \n",
       "57 1965-04-04        F-105D  KRT                                   Gunfire   \n",
       "58 1965-04-04        F-105D  KRT            MiG cannon fire (prob. MiG-17)   \n",
       "\n",
       "   Mission_Phase    Pilot_Status  \n",
       "21     At target             KIA  \n",
       "24     At target       Recovered  \n",
       "25       Enroute             KIA  \n",
       "28       Enroute             KIA  \n",
       "31     At target       Recovered  \n",
       "32     At target             KIA  \n",
       "34     At target             KIA  \n",
       "36       Enroute             KIA  \n",
       "38       Enroute       Recovered  \n",
       "46     At target       Recovered  \n",
       "47     At target  POW (returned)  \n",
       "48     At target       Recovered  \n",
       "49     At target       Recovered  \n",
       "50     At target       Recovered  \n",
       "51     At target             KIA  \n",
       "53     At target       Recovered  \n",
       "54     At target       Recovered  \n",
       "55     At target             KIA  \n",
       "57     At target  POW (returned)  \n",
       "58     At target             KIA  "
      ]
     },
     "execution_count": 5,
     "metadata": {},
     "output_type": "execute_result"
    }
   ],
   "source": [
    "# Remove rows that have string value \"_\".  For some reason I couldnt chanin the code to do all columns in one line\n",
    "\n",
    "usaf_df_modelv3 = usaf_df_model[usaf_df_model[\"Aircraft_Type\"].str.contains(\"_\")==False]\n",
    "\n",
    "usaf_df_modelv4 = usaf_df_modelv3[usaf_df_modelv3[\"Base\"].str.contains(\"_\")==False]\n",
    "\n",
    "usaf_df_modelv5 = usaf_df_modelv4[usaf_df_modelv4[\"Defense_Type\"].str.contains(\"_\")==False]\n",
    "\n",
    "usaf_df_modelv6 = usaf_df_modelv5[usaf_df_modelv5[\"Mission_Phase\"].str.contains(\"_\")==False]\n",
    "\n",
    "usaf_cleaned_nulls = usaf_df_modelv6[usaf_df_modelv6[\"Pilot_Status\"].str.contains(\"_\")==False]\n",
    "\n",
    "usaf_cleaned_nulls.head(20)"
   ]
  },
  {
   "cell_type": "code",
   "execution_count": 20,
   "metadata": {},
   "outputs": [
    {
     "data": {
      "text/html": [
       "<div>\n",
       "<style scoped>\n",
       "    .dataframe tbody tr th:only-of-type {\n",
       "        vertical-align: middle;\n",
       "    }\n",
       "\n",
       "    .dataframe tbody tr th {\n",
       "        vertical-align: top;\n",
       "    }\n",
       "\n",
       "    .dataframe thead th {\n",
       "        text-align: right;\n",
       "    }\n",
       "</style>\n",
       "<table border=\"1\" class=\"dataframe\">\n",
       "  <thead>\n",
       "    <tr style=\"text-align: right;\">\n",
       "      <th></th>\n",
       "      <th>Crash_Date</th>\n",
       "      <th>Pilot_Status</th>\n",
       "      <th>Aircraft_Type_A-1</th>\n",
       "      <th>Aircraft_Type_A-1E</th>\n",
       "      <th>Aircraft_Type_A-1G</th>\n",
       "      <th>Aircraft_Type_A-1H</th>\n",
       "      <th>Aircraft_Type_A-1H/J</th>\n",
       "      <th>Aircraft_Type_A-1J</th>\n",
       "      <th>Aircraft_Type_A-26</th>\n",
       "      <th>Aircraft_Type_A-26A</th>\n",
       "      <th>...</th>\n",
       "      <th>Defense_Type_Small arms (poss.)</th>\n",
       "      <th>Defense_Type_Small arms (prob. combat associated)</th>\n",
       "      <th>Defense_Type_Small arms (prob.)</th>\n",
       "      <th>Defense_Type_Target debris (combat associated)</th>\n",
       "      <th>Mission_Phase_At target</th>\n",
       "      <th>Mission_Phase_Enroute</th>\n",
       "      <th>Mission_Phase_On recce</th>\n",
       "      <th>Mission_Phase_On station</th>\n",
       "      <th>Mission_Phase_Return</th>\n",
       "      <th>Mission_Phase_Transit</th>\n",
       "    </tr>\n",
       "  </thead>\n",
       "  <tbody>\n",
       "    <tr>\n",
       "      <th>21</th>\n",
       "      <td>1964-03-24</td>\n",
       "      <td>KIA</td>\n",
       "      <td>0</td>\n",
       "      <td>0</td>\n",
       "      <td>0</td>\n",
       "      <td>0</td>\n",
       "      <td>0</td>\n",
       "      <td>0</td>\n",
       "      <td>0</td>\n",
       "      <td>0</td>\n",
       "      <td>...</td>\n",
       "      <td>0</td>\n",
       "      <td>0</td>\n",
       "      <td>0</td>\n",
       "      <td>0</td>\n",
       "      <td>1</td>\n",
       "      <td>0</td>\n",
       "      <td>0</td>\n",
       "      <td>0</td>\n",
       "      <td>0</td>\n",
       "      <td>0</td>\n",
       "    </tr>\n",
       "    <tr>\n",
       "      <th>24</th>\n",
       "      <td>1964-06-26</td>\n",
       "      <td>Recovered</td>\n",
       "      <td>0</td>\n",
       "      <td>0</td>\n",
       "      <td>0</td>\n",
       "      <td>0</td>\n",
       "      <td>0</td>\n",
       "      <td>0</td>\n",
       "      <td>0</td>\n",
       "      <td>0</td>\n",
       "      <td>...</td>\n",
       "      <td>0</td>\n",
       "      <td>0</td>\n",
       "      <td>0</td>\n",
       "      <td>0</td>\n",
       "      <td>1</td>\n",
       "      <td>0</td>\n",
       "      <td>0</td>\n",
       "      <td>0</td>\n",
       "      <td>0</td>\n",
       "      <td>0</td>\n",
       "    </tr>\n",
       "    <tr>\n",
       "      <th>25</th>\n",
       "      <td>1964-08-06</td>\n",
       "      <td>KIA</td>\n",
       "      <td>0</td>\n",
       "      <td>0</td>\n",
       "      <td>0</td>\n",
       "      <td>0</td>\n",
       "      <td>0</td>\n",
       "      <td>0</td>\n",
       "      <td>0</td>\n",
       "      <td>0</td>\n",
       "      <td>...</td>\n",
       "      <td>0</td>\n",
       "      <td>0</td>\n",
       "      <td>0</td>\n",
       "      <td>0</td>\n",
       "      <td>0</td>\n",
       "      <td>1</td>\n",
       "      <td>0</td>\n",
       "      <td>0</td>\n",
       "      <td>0</td>\n",
       "      <td>0</td>\n",
       "    </tr>\n",
       "    <tr>\n",
       "      <th>28</th>\n",
       "      <td>1964-08-29</td>\n",
       "      <td>KIA</td>\n",
       "      <td>0</td>\n",
       "      <td>1</td>\n",
       "      <td>0</td>\n",
       "      <td>0</td>\n",
       "      <td>0</td>\n",
       "      <td>0</td>\n",
       "      <td>0</td>\n",
       "      <td>0</td>\n",
       "      <td>...</td>\n",
       "      <td>0</td>\n",
       "      <td>0</td>\n",
       "      <td>0</td>\n",
       "      <td>0</td>\n",
       "      <td>0</td>\n",
       "      <td>1</td>\n",
       "      <td>0</td>\n",
       "      <td>0</td>\n",
       "      <td>0</td>\n",
       "      <td>0</td>\n",
       "    </tr>\n",
       "    <tr>\n",
       "      <th>31</th>\n",
       "      <td>1964-09-26</td>\n",
       "      <td>Recovered</td>\n",
       "      <td>0</td>\n",
       "      <td>1</td>\n",
       "      <td>0</td>\n",
       "      <td>0</td>\n",
       "      <td>0</td>\n",
       "      <td>0</td>\n",
       "      <td>0</td>\n",
       "      <td>0</td>\n",
       "      <td>...</td>\n",
       "      <td>0</td>\n",
       "      <td>0</td>\n",
       "      <td>0</td>\n",
       "      <td>0</td>\n",
       "      <td>1</td>\n",
       "      <td>0</td>\n",
       "      <td>0</td>\n",
       "      <td>0</td>\n",
       "      <td>0</td>\n",
       "      <td>0</td>\n",
       "    </tr>\n",
       "  </tbody>\n",
       "</table>\n",
       "<p>5 rows × 320 columns</p>\n",
       "</div>"
      ],
      "text/plain": [
       "   Crash_Date Pilot_Status  Aircraft_Type_A-1  Aircraft_Type_A-1E  \\\n",
       "21 1964-03-24          KIA                  0                   0   \n",
       "24 1964-06-26    Recovered                  0                   0   \n",
       "25 1964-08-06          KIA                  0                   0   \n",
       "28 1964-08-29          KIA                  0                   1   \n",
       "31 1964-09-26    Recovered                  0                   1   \n",
       "\n",
       "    Aircraft_Type_A-1G  Aircraft_Type_A-1H  Aircraft_Type_A-1H/J  \\\n",
       "21                   0                   0                     0   \n",
       "24                   0                   0                     0   \n",
       "25                   0                   0                     0   \n",
       "28                   0                   0                     0   \n",
       "31                   0                   0                     0   \n",
       "\n",
       "    Aircraft_Type_A-1J  Aircraft_Type_A-26  Aircraft_Type_A-26A  ...  \\\n",
       "21                   0                   0                    0  ...   \n",
       "24                   0                   0                    0  ...   \n",
       "25                   0                   0                    0  ...   \n",
       "28                   0                   0                    0  ...   \n",
       "31                   0                   0                    0  ...   \n",
       "\n",
       "    Defense_Type_Small arms (poss.)  \\\n",
       "21                                0   \n",
       "24                                0   \n",
       "25                                0   \n",
       "28                                0   \n",
       "31                                0   \n",
       "\n",
       "    Defense_Type_Small arms (prob. combat associated)  \\\n",
       "21                                                  0   \n",
       "24                                                  0   \n",
       "25                                                  0   \n",
       "28                                                  0   \n",
       "31                                                  0   \n",
       "\n",
       "    Defense_Type_Small arms (prob.)  \\\n",
       "21                                0   \n",
       "24                                0   \n",
       "25                                0   \n",
       "28                                0   \n",
       "31                                0   \n",
       "\n",
       "    Defense_Type_Target debris (combat associated)  Mission_Phase_At target  \\\n",
       "21                                               0                        1   \n",
       "24                                               0                        1   \n",
       "25                                               0                        0   \n",
       "28                                               0                        0   \n",
       "31                                               0                        1   \n",
       "\n",
       "    Mission_Phase_Enroute  Mission_Phase_On recce  Mission_Phase_On station  \\\n",
       "21                      0                       0                         0   \n",
       "24                      0                       0                         0   \n",
       "25                      1                       0                         0   \n",
       "28                      1                       0                         0   \n",
       "31                      0                       0                         0   \n",
       "\n",
       "    Mission_Phase_Return  Mission_Phase_Transit  \n",
       "21                     0                      0  \n",
       "24                     0                      0  \n",
       "25                     0                      0  \n",
       "28                     0                      0  \n",
       "31                     0                      0  \n",
       "\n",
       "[5 rows x 320 columns]"
      ]
     },
     "execution_count": 20,
     "metadata": {},
     "output_type": "execute_result"
    }
   ],
   "source": [
    "#Start with dummy coding text variables\n",
    "\n",
    "usaf_df_dummy = pd.get_dummies(usaf_cleaned_nulls, columns=[\"Aircraft_Type\", \"Base\", \"Defense_Type\", \"Mission_Phase\"])\n",
    "\n",
    "usaf_df_dummy.head()"
   ]
  },
  {
   "cell_type": "code",
   "execution_count": 21,
   "metadata": {},
   "outputs": [
    {
     "data": {
      "text/plain": [
       "Recovered                  511\n",
       "KIA                        348\n",
       "POW (returned)             156\n",
       "MIA                        151\n",
       "POW (died)                   5\n",
       "POW                          4\n",
       "KIA (chute failure)          3\n",
       "Recoverd                     2\n",
       "u                            2\n",
       "KIA (chute failed)           1\n",
       "Recovered DaNang             1\n",
       "POW (died in captivity)      1\n",
       "recovered                    1\n",
       "Name: Pilot_Status, dtype: int64"
      ]
     },
     "execution_count": 21,
     "metadata": {},
     "output_type": "execute_result"
    }
   ],
   "source": [
    "# Clean Target variable pilot status - Get labels and counts\n",
    "\n",
    "usaf_df_dummy[\"Pilot_Status\"].value_counts()\n",
    "\n"
   ]
  },
  {
   "cell_type": "code",
   "execution_count": 22,
   "metadata": {},
   "outputs": [
    {
     "data": {
      "text/plain": [
       "<bound method IndexOpsMixin.value_counts of 21      0\n",
       "24      1\n",
       "25      0\n",
       "28      0\n",
       "31      1\n",
       "       ..\n",
       "1533    0\n",
       "1535    1\n",
       "1536    0\n",
       "1537    1\n",
       "1538    1\n",
       "Name: Target, Length: 1186, dtype: int64>"
      ]
     },
     "execution_count": 22,
     "metadata": {},
     "output_type": "execute_result"
    }
   ],
   "source": [
    "# Clean Target variable pilot status - Create Binomial with dictionary.map\n",
    "\n",
    "recovered = {'Recovered': 1, 'KIA': 0,'POW (returned)': 1,'MIA': 0,'POW (died)': 0,'POW': 1,'KIA (chute failure)': 0,'Recoverd': 1, 'u': 0, \n",
    "    'KIA (chute failed)': 0, 'Recovered DaNang': 1, 'POW (died in captivity)':0, 'Recovered (chute fail)': 1,'recovered': 1,'KIA,body MIA,PJ abandnd': 1, 'POW (died in captivity)': 0}\n",
    "\n",
    "\n",
    "usaf_df_dummy[\"Target\"] = usaf_df_dummy[\"Pilot_Status\"].map(recovered)\n",
    "\n",
    "usaf_df_dummy[\"Target\"].value_counts"
   ]
  },
  {
   "cell_type": "markdown",
   "metadata": {},
   "source": [
    "## Model Testing"
   ]
  },
  {
   "cell_type": "markdown",
   "metadata": {},
   "source": [
    "### Random Forest"
   ]
  },
  {
   "cell_type": "code",
   "execution_count": 34,
   "metadata": {},
   "outputs": [
    {
     "data": {
      "text/html": [
       "<div>\n",
       "<style scoped>\n",
       "    .dataframe tbody tr th:only-of-type {\n",
       "        vertical-align: middle;\n",
       "    }\n",
       "\n",
       "    .dataframe tbody tr th {\n",
       "        vertical-align: top;\n",
       "    }\n",
       "\n",
       "    .dataframe thead th {\n",
       "        text-align: right;\n",
       "    }\n",
       "</style>\n",
       "<table border=\"1\" class=\"dataframe\">\n",
       "  <thead>\n",
       "    <tr style=\"text-align: right;\">\n",
       "      <th></th>\n",
       "      <th>Aircraft_Type_A-1</th>\n",
       "      <th>Aircraft_Type_A-1E</th>\n",
       "      <th>Aircraft_Type_A-1G</th>\n",
       "      <th>Aircraft_Type_A-1H</th>\n",
       "      <th>Aircraft_Type_A-1H/J</th>\n",
       "      <th>Aircraft_Type_A-1J</th>\n",
       "      <th>Aircraft_Type_A-26</th>\n",
       "      <th>Aircraft_Type_A-26A</th>\n",
       "      <th>Aircraft_Type_A-37</th>\n",
       "      <th>Aircraft_Type_A-37A</th>\n",
       "      <th>...</th>\n",
       "      <th>Defense_Type_Small arms (poss.)</th>\n",
       "      <th>Defense_Type_Small arms (prob. combat associated)</th>\n",
       "      <th>Defense_Type_Small arms (prob.)</th>\n",
       "      <th>Defense_Type_Target debris (combat associated)</th>\n",
       "      <th>Mission_Phase_At target</th>\n",
       "      <th>Mission_Phase_Enroute</th>\n",
       "      <th>Mission_Phase_On recce</th>\n",
       "      <th>Mission_Phase_On station</th>\n",
       "      <th>Mission_Phase_Return</th>\n",
       "      <th>Mission_Phase_Transit</th>\n",
       "    </tr>\n",
       "  </thead>\n",
       "  <tbody>\n",
       "    <tr>\n",
       "      <th>21</th>\n",
       "      <td>0</td>\n",
       "      <td>0</td>\n",
       "      <td>0</td>\n",
       "      <td>0</td>\n",
       "      <td>0</td>\n",
       "      <td>0</td>\n",
       "      <td>0</td>\n",
       "      <td>0</td>\n",
       "      <td>0</td>\n",
       "      <td>0</td>\n",
       "      <td>...</td>\n",
       "      <td>0</td>\n",
       "      <td>0</td>\n",
       "      <td>0</td>\n",
       "      <td>0</td>\n",
       "      <td>1</td>\n",
       "      <td>0</td>\n",
       "      <td>0</td>\n",
       "      <td>0</td>\n",
       "      <td>0</td>\n",
       "      <td>0</td>\n",
       "    </tr>\n",
       "    <tr>\n",
       "      <th>24</th>\n",
       "      <td>0</td>\n",
       "      <td>0</td>\n",
       "      <td>0</td>\n",
       "      <td>0</td>\n",
       "      <td>0</td>\n",
       "      <td>0</td>\n",
       "      <td>0</td>\n",
       "      <td>0</td>\n",
       "      <td>0</td>\n",
       "      <td>0</td>\n",
       "      <td>...</td>\n",
       "      <td>0</td>\n",
       "      <td>0</td>\n",
       "      <td>0</td>\n",
       "      <td>0</td>\n",
       "      <td>1</td>\n",
       "      <td>0</td>\n",
       "      <td>0</td>\n",
       "      <td>0</td>\n",
       "      <td>0</td>\n",
       "      <td>0</td>\n",
       "    </tr>\n",
       "    <tr>\n",
       "      <th>25</th>\n",
       "      <td>0</td>\n",
       "      <td>0</td>\n",
       "      <td>0</td>\n",
       "      <td>0</td>\n",
       "      <td>0</td>\n",
       "      <td>0</td>\n",
       "      <td>0</td>\n",
       "      <td>0</td>\n",
       "      <td>0</td>\n",
       "      <td>0</td>\n",
       "      <td>...</td>\n",
       "      <td>0</td>\n",
       "      <td>0</td>\n",
       "      <td>0</td>\n",
       "      <td>0</td>\n",
       "      <td>0</td>\n",
       "      <td>1</td>\n",
       "      <td>0</td>\n",
       "      <td>0</td>\n",
       "      <td>0</td>\n",
       "      <td>0</td>\n",
       "    </tr>\n",
       "    <tr>\n",
       "      <th>28</th>\n",
       "      <td>0</td>\n",
       "      <td>1</td>\n",
       "      <td>0</td>\n",
       "      <td>0</td>\n",
       "      <td>0</td>\n",
       "      <td>0</td>\n",
       "      <td>0</td>\n",
       "      <td>0</td>\n",
       "      <td>0</td>\n",
       "      <td>0</td>\n",
       "      <td>...</td>\n",
       "      <td>0</td>\n",
       "      <td>0</td>\n",
       "      <td>0</td>\n",
       "      <td>0</td>\n",
       "      <td>0</td>\n",
       "      <td>1</td>\n",
       "      <td>0</td>\n",
       "      <td>0</td>\n",
       "      <td>0</td>\n",
       "      <td>0</td>\n",
       "    </tr>\n",
       "    <tr>\n",
       "      <th>31</th>\n",
       "      <td>0</td>\n",
       "      <td>1</td>\n",
       "      <td>0</td>\n",
       "      <td>0</td>\n",
       "      <td>0</td>\n",
       "      <td>0</td>\n",
       "      <td>0</td>\n",
       "      <td>0</td>\n",
       "      <td>0</td>\n",
       "      <td>0</td>\n",
       "      <td>...</td>\n",
       "      <td>0</td>\n",
       "      <td>0</td>\n",
       "      <td>0</td>\n",
       "      <td>0</td>\n",
       "      <td>1</td>\n",
       "      <td>0</td>\n",
       "      <td>0</td>\n",
       "      <td>0</td>\n",
       "      <td>0</td>\n",
       "      <td>0</td>\n",
       "    </tr>\n",
       "  </tbody>\n",
       "</table>\n",
       "<p>5 rows × 318 columns</p>\n",
       "</div>"
      ],
      "text/plain": [
       "    Aircraft_Type_A-1  Aircraft_Type_A-1E  Aircraft_Type_A-1G  \\\n",
       "21                  0                   0                   0   \n",
       "24                  0                   0                   0   \n",
       "25                  0                   0                   0   \n",
       "28                  0                   1                   0   \n",
       "31                  0                   1                   0   \n",
       "\n",
       "    Aircraft_Type_A-1H  Aircraft_Type_A-1H/J  Aircraft_Type_A-1J  \\\n",
       "21                   0                     0                   0   \n",
       "24                   0                     0                   0   \n",
       "25                   0                     0                   0   \n",
       "28                   0                     0                   0   \n",
       "31                   0                     0                   0   \n",
       "\n",
       "    Aircraft_Type_A-26  Aircraft_Type_A-26A  Aircraft_Type_A-37  \\\n",
       "21                   0                    0                   0   \n",
       "24                   0                    0                   0   \n",
       "25                   0                    0                   0   \n",
       "28                   0                    0                   0   \n",
       "31                   0                    0                   0   \n",
       "\n",
       "    Aircraft_Type_A-37A  ...  Defense_Type_Small arms (poss.)  \\\n",
       "21                    0  ...                                0   \n",
       "24                    0  ...                                0   \n",
       "25                    0  ...                                0   \n",
       "28                    0  ...                                0   \n",
       "31                    0  ...                                0   \n",
       "\n",
       "    Defense_Type_Small arms (prob. combat associated)  \\\n",
       "21                                                  0   \n",
       "24                                                  0   \n",
       "25                                                  0   \n",
       "28                                                  0   \n",
       "31                                                  0   \n",
       "\n",
       "    Defense_Type_Small arms (prob.)  \\\n",
       "21                                0   \n",
       "24                                0   \n",
       "25                                0   \n",
       "28                                0   \n",
       "31                                0   \n",
       "\n",
       "    Defense_Type_Target debris (combat associated)  Mission_Phase_At target  \\\n",
       "21                                               0                        1   \n",
       "24                                               0                        1   \n",
       "25                                               0                        0   \n",
       "28                                               0                        0   \n",
       "31                                               0                        1   \n",
       "\n",
       "    Mission_Phase_Enroute  Mission_Phase_On recce  Mission_Phase_On station  \\\n",
       "21                      0                       0                         0   \n",
       "24                      0                       0                         0   \n",
       "25                      1                       0                         0   \n",
       "28                      1                       0                         0   \n",
       "31                      0                       0                         0   \n",
       "\n",
       "    Mission_Phase_Return  Mission_Phase_Transit  \n",
       "21                     0                      0  \n",
       "24                     0                      0  \n",
       "25                     0                      0  \n",
       "28                     0                      0  \n",
       "31                     0                      0  \n",
       "\n",
       "[5 rows x 318 columns]"
      ]
     },
     "execution_count": 34,
     "metadata": {},
     "output_type": "execute_result"
    }
   ],
   "source": [
    "# Create feature Variables\n",
    "\n",
    "Y = usaf_df_dummy[\"Target\"]\n",
    "\n",
    "x = usaf_df_dummy.drop([\"Target\", \"Pilot_Status\", \"Crash_Date\" ], axis=1)\n",
    "\n",
    "x.head()"
   ]
  },
  {
   "cell_type": "code",
   "execution_count": 35,
   "metadata": {},
   "outputs": [
    {
     "data": {
      "text/plain": [
       "Aircraft_Type_A-1           uint8\n",
       "Aircraft_Type_A-1E          uint8\n",
       "Aircraft_Type_A-1G          uint8\n",
       "Aircraft_Type_A-1H          uint8\n",
       "Aircraft_Type_A-1H/J        uint8\n",
       "                            ...  \n",
       "Mission_Phase_Enroute       uint8\n",
       "Mission_Phase_On recce      uint8\n",
       "Mission_Phase_On station    uint8\n",
       "Mission_Phase_Return        uint8\n",
       "Mission_Phase_Transit       uint8\n",
       "Length: 318, dtype: object"
      ]
     },
     "execution_count": 35,
     "metadata": {},
     "output_type": "execute_result"
    }
   ],
   "source": [
    "x.dtypes"
   ]
  },
  {
   "cell_type": "code",
   "execution_count": null,
   "metadata": {},
   "outputs": [],
   "source": [
    "#x['Crash_Date'] = x['Crash_Date'].dt.year"
   ]
  },
  {
   "cell_type": "code",
   "execution_count": 37,
   "metadata": {},
   "outputs": [
    {
     "data": {
      "text/plain": [
       "Aircraft_Type_A-1           uint8\n",
       "Aircraft_Type_A-1E          uint8\n",
       "Aircraft_Type_A-1G          uint8\n",
       "Aircraft_Type_A-1H          uint8\n",
       "Aircraft_Type_A-1H/J        uint8\n",
       "                            ...  \n",
       "Mission_Phase_Enroute       uint8\n",
       "Mission_Phase_On recce      uint8\n",
       "Mission_Phase_On station    uint8\n",
       "Mission_Phase_Return        uint8\n",
       "Mission_Phase_Transit       uint8\n",
       "Length: 318, dtype: object"
      ]
     },
     "execution_count": 37,
     "metadata": {},
     "output_type": "execute_result"
    }
   ],
   "source": [
    "x.dtypes "
   ]
  },
  {
   "cell_type": "code",
   "execution_count": 38,
   "metadata": {},
   "outputs": [
    {
     "data": {
      "text/plain": [
       "1    675\n",
       "0    511\n",
       "Name: Target, dtype: int64"
      ]
     },
     "execution_count": 38,
     "metadata": {},
     "output_type": "execute_result"
    }
   ],
   "source": [
    "# Check the balance of our target values - We have greater than 1000 and the target of recovered versus non-recovered is roughly proportional \n",
    "Y.value_counts()"
   ]
  },
  {
   "cell_type": "code",
   "execution_count": 39,
   "metadata": {},
   "outputs": [],
   "source": [
    "X_train, X_test, y_train, y_test = train_test_split(x, Y, random_state=78)"
   ]
  },
  {
   "cell_type": "code",
   "execution_count": 40,
   "metadata": {},
   "outputs": [],
   "source": [
    "brfc = BalancedRandomForestClassifier(n_estimators=100, random_state=1)\n",
    "modle=brfc.fit(X_train, y_train)"
   ]
  },
  {
   "cell_type": "code",
   "execution_count": 41,
   "metadata": {},
   "outputs": [
    {
     "data": {
      "text/plain": [
       "0.5687300203429235"
      ]
     },
     "execution_count": 41,
     "metadata": {},
     "output_type": "execute_result"
    }
   ],
   "source": [
    "# Calculated the balanced accuracy score\n",
    "y_pred = brfc.predict(X_test)\n",
    "balanced_accuracy_score(y_test, y_pred)"
   ]
  },
  {
   "cell_type": "code",
   "execution_count": 31,
   "metadata": {},
   "outputs": [
    {
     "data": {
      "text/plain": [
       "array([[ 61,  50],\n",
       "       [ 73, 113]], dtype=int64)"
      ]
     },
     "execution_count": 31,
     "metadata": {},
     "output_type": "execute_result"
    }
   ],
   "source": [
    "# Display the confusion matrix\n",
    "confusion_matrix(y_test, y_pred)"
   ]
  },
  {
   "cell_type": "code",
   "execution_count": 32,
   "metadata": {},
   "outputs": [
    {
     "name": "stdout",
     "output_type": "stream",
     "text": [
      "                   pre       rec       spe        f1       geo       iba       sup\n",
      "\n",
      "          0       0.46      0.55      0.61      0.50      0.58      0.33       111\n",
      "          1       0.69      0.61      0.55      0.65      0.58      0.34       186\n",
      "\n",
      "avg / total       0.60      0.59      0.57      0.59      0.58      0.33       297\n",
      "\n"
     ]
    }
   ],
   "source": [
    "# Print the imbalanced classification report\n",
    "print(classification_report_imbalanced(y_test, y_pred))"
   ]
  },
  {
   "cell_type": "markdown",
   "metadata": {},
   "source": [
    "### Decision Tree"
   ]
  },
  {
   "cell_type": "code",
   "execution_count": null,
   "metadata": {},
   "outputs": [],
   "source": []
  },
  {
   "cell_type": "code",
   "execution_count": null,
   "metadata": {},
   "outputs": [],
   "source": []
  },
  {
   "cell_type": "code",
   "execution_count": null,
   "metadata": {},
   "outputs": [],
   "source": []
  },
  {
   "cell_type": "code",
   "execution_count": null,
   "metadata": {},
   "outputs": [],
   "source": []
  },
  {
   "cell_type": "code",
   "execution_count": null,
   "metadata": {},
   "outputs": [],
   "source": []
  },
  {
   "cell_type": "code",
   "execution_count": null,
   "metadata": {},
   "outputs": [],
   "source": []
  },
  {
   "cell_type": "markdown",
   "metadata": {},
   "source": [
    "## Logistic Regression and Sampling Techniques"
   ]
  },
  {
   "cell_type": "markdown",
   "metadata": {},
   "source": [
    "Random Oversampling"
   ]
  },
  {
   "cell_type": "code",
   "execution_count": 42,
   "metadata": {},
   "outputs": [
    {
     "data": {
      "text/plain": [
       "Counter({1: 489, 0: 489})"
      ]
     },
     "execution_count": 42,
     "metadata": {},
     "output_type": "execute_result"
    }
   ],
   "source": [
    "from imblearn.over_sampling import RandomOverSampler\n",
    "\n",
    "ros = RandomOverSampler(random_state=1)\n",
    "X_resampled, y_resampled = ros.fit_resample(X_train, y_train)\n",
    "\n",
    "Counter(y_resampled)"
   ]
  },
  {
   "cell_type": "code",
   "execution_count": 43,
   "metadata": {},
   "outputs": [
    {
     "data": {
      "text/plain": [
       "LogisticRegression(random_state=1)"
      ]
     },
     "execution_count": 43,
     "metadata": {},
     "output_type": "execute_result"
    }
   ],
   "source": [
    "from sklearn.linear_model import LogisticRegression\n",
    "\n",
    "model = LogisticRegression(solver='lbfgs', random_state=1)\n",
    "\n",
    "model.fit(X_resampled, y_resampled)"
   ]
  },
  {
   "cell_type": "code",
   "execution_count": 44,
   "metadata": {},
   "outputs": [
    {
     "data": {
      "text/plain": [
       "0.5820255739610578"
      ]
     },
     "execution_count": 44,
     "metadata": {},
     "output_type": "execute_result"
    }
   ],
   "source": [
    "from sklearn.metrics import balanced_accuracy_score\n",
    "\n",
    "y_pred = model.predict(X_test)\n",
    "balanced_accuracy_score(y_test, y_pred)"
   ]
  },
  {
   "cell_type": "code",
   "execution_count": 45,
   "metadata": {},
   "outputs": [
    {
     "data": {
      "text/plain": [
       "array([[ 57,  54],\n",
       "       [ 65, 121]], dtype=int64)"
      ]
     },
     "execution_count": 45,
     "metadata": {},
     "output_type": "execute_result"
    }
   ],
   "source": [
    "confusion_matrix(y_test, y_pred)"
   ]
  },
  {
   "cell_type": "code",
   "execution_count": 46,
   "metadata": {},
   "outputs": [
    {
     "name": "stdout",
     "output_type": "stream",
     "text": [
      "                   pre       rec       spe        f1       geo       iba       sup\n",
      "\n",
      "          0       0.47      0.51      0.65      0.49      0.58      0.33       111\n",
      "          1       0.69      0.65      0.51      0.67      0.58      0.34       186\n",
      "\n",
      "avg / total       0.61      0.60      0.56      0.60      0.58      0.34       297\n",
      "\n"
     ]
    }
   ],
   "source": [
    "# Print the imbalanced classification report\n",
    "from imblearn.metrics import classification_report_imbalanced\n",
    "\n",
    "print(classification_report_imbalanced(y_test, y_pred))"
   ]
  },
  {
   "cell_type": "markdown",
   "metadata": {},
   "source": [
    "SMOTE Oversampling"
   ]
  },
  {
   "cell_type": "code",
   "execution_count": 47,
   "metadata": {},
   "outputs": [
    {
     "data": {
      "text/plain": [
       "Counter({1: 489, 0: 489})"
      ]
     },
     "execution_count": 47,
     "metadata": {},
     "output_type": "execute_result"
    }
   ],
   "source": [
    "from imblearn.over_sampling import SMOTE\n",
    "\n",
    "X_resampled, y_resampled = SMOTE(random_state=1, sampling_strategy=1.0).fit_resample(\n",
    "    X_train, y_train\n",
    ")\n",
    "from collections import Counter\n",
    "\n",
    "Counter(y_resampled)"
   ]
  },
  {
   "cell_type": "code",
   "execution_count": 48,
   "metadata": {},
   "outputs": [
    {
     "name": "stderr",
     "output_type": "stream",
     "text": [
      "c:\\Users\\11sam\\anaconda3\\envs\\mlenv\\lib\\site-packages\\sklearn\\linear_model\\_logistic.py:818: ConvergenceWarning: lbfgs failed to converge (status=1):\n",
      "STOP: TOTAL NO. of ITERATIONS REACHED LIMIT.\n",
      "\n",
      "Increase the number of iterations (max_iter) or scale the data as shown in:\n",
      "    https://scikit-learn.org/stable/modules/preprocessing.html\n",
      "Please also refer to the documentation for alternative solver options:\n",
      "    https://scikit-learn.org/stable/modules/linear_model.html#logistic-regression\n",
      "  extra_warning_msg=_LOGISTIC_SOLVER_CONVERGENCE_MSG,\n"
     ]
    },
    {
     "data": {
      "text/plain": [
       "LogisticRegression(random_state=1)"
      ]
     },
     "execution_count": 48,
     "metadata": {},
     "output_type": "execute_result"
    }
   ],
   "source": [
    "# Train the Logistic Regression model using the resampled data\n",
    "model = LogisticRegression(solver='lbfgs', random_state=1)\n",
    "model.fit(X_resampled, y_resampled)"
   ]
  },
  {
   "cell_type": "code",
   "execution_count": 49,
   "metadata": {},
   "outputs": [
    {
     "data": {
      "text/plain": [
       "0.5547079337401918"
      ]
     },
     "execution_count": 49,
     "metadata": {},
     "output_type": "execute_result"
    }
   ],
   "source": [
    "# Calculated the balanced accuracy score\n",
    "y_pred = model.predict(X_test)\n",
    "balanced_accuracy_score(y_test, y_pred)"
   ]
  },
  {
   "cell_type": "code",
   "execution_count": 50,
   "metadata": {},
   "outputs": [
    {
     "data": {
      "text/plain": [
       "array([[ 39,  72],\n",
       "       [ 45, 141]], dtype=int64)"
      ]
     },
     "execution_count": 50,
     "metadata": {},
     "output_type": "execute_result"
    }
   ],
   "source": [
    "# Display the confusion matrix\n",
    "confusion_matrix(y_test, y_pred)"
   ]
  },
  {
   "cell_type": "code",
   "execution_count": 51,
   "metadata": {},
   "outputs": [
    {
     "name": "stdout",
     "output_type": "stream",
     "text": [
      "                   pre       rec       spe        f1       geo       iba       sup\n",
      "\n",
      "          0       0.46      0.35      0.76      0.40      0.52      0.26       111\n",
      "          1       0.66      0.76      0.35      0.71      0.52      0.28       186\n",
      "\n",
      "avg / total       0.59      0.61      0.50      0.59      0.52      0.27       297\n",
      "\n"
     ]
    }
   ],
   "source": [
    "# Print the imbalanced classification report\n",
    "print(classification_report_imbalanced(y_test, y_pred))"
   ]
  },
  {
   "cell_type": "code",
   "execution_count": 52,
   "metadata": {},
   "outputs": [
    {
     "name": "stderr",
     "output_type": "stream",
     "text": [
      "c:\\Users\\11sam\\anaconda3\\envs\\mlenv\\lib\\site-packages\\imblearn\\under_sampling\\_prototype_generation\\_cluster_centroids.py:190: ConvergenceWarning: Number of distinct clusters (396) found smaller than n_clusters (400). Possibly due to duplicate points in X.\n",
      "  self.estimator_.fit(_safe_indexing(X, target_class_indices))\n"
     ]
    },
    {
     "data": {
      "text/plain": [
       "Counter({0: 400, 1: 400})"
      ]
     },
     "execution_count": 52,
     "metadata": {},
     "output_type": "execute_result"
    }
   ],
   "source": [
    "# Resample the data using the ClusterCentroids resampler\n",
    "\n",
    "from imblearn.under_sampling import ClusterCentroids\n",
    "\n",
    "cluster = ClusterCentroids(random_state=1)\n",
    "X_resampled, y_resampled = cluster.fit_resample(X_train, y_train)\n",
    "\n",
    "Counter(y_resampled)"
   ]
  },
  {
   "cell_type": "code",
   "execution_count": 53,
   "metadata": {},
   "outputs": [
    {
     "data": {
      "text/plain": [
       "LogisticRegression(random_state=1)"
      ]
     },
     "execution_count": 53,
     "metadata": {},
     "output_type": "execute_result"
    }
   ],
   "source": [
    "# Train Model\n",
    "\n",
    "model = LogisticRegression(solver='lbfgs', random_state=1)\n",
    "model.fit(X_resampled, y_resampled)"
   ]
  },
  {
   "cell_type": "code",
   "execution_count": 54,
   "metadata": {},
   "outputs": [
    {
     "data": {
      "text/plain": [
       "0.5525283347863994"
      ]
     },
     "execution_count": 54,
     "metadata": {},
     "output_type": "execute_result"
    }
   ],
   "source": [
    "# Calculated the balanced accuracy score\n",
    "y_pred = model.predict(X_test)\n",
    "balanced_accuracy_score(y_test, y_pred)"
   ]
  },
  {
   "cell_type": "code",
   "execution_count": 55,
   "metadata": {},
   "outputs": [
    {
     "data": {
      "text/plain": [
       "array([[ 60,  51],\n",
       "       [ 81, 105]], dtype=int64)"
      ]
     },
     "execution_count": 55,
     "metadata": {},
     "output_type": "execute_result"
    }
   ],
   "source": [
    "# Display the confusion matrix\n",
    "confusion_matrix(y_test, y_pred)"
   ]
  },
  {
   "cell_type": "code",
   "execution_count": 56,
   "metadata": {},
   "outputs": [
    {
     "name": "stdout",
     "output_type": "stream",
     "text": [
      "                   pre       rec       spe        f1       geo       iba       sup\n",
      "\n",
      "          0       0.43      0.54      0.56      0.48      0.55      0.30       111\n",
      "          1       0.67      0.56      0.54      0.61      0.55      0.31       186\n",
      "\n",
      "avg / total       0.58      0.56      0.55      0.56      0.55      0.31       297\n",
      "\n"
     ]
    }
   ],
   "source": [
    "# Print the imbalanced classification report\n",
    "print(classification_report_imbalanced(y_test, y_pred))"
   ]
  },
  {
   "cell_type": "markdown",
   "metadata": {},
   "source": [
    "### SMOTEEN"
   ]
  },
  {
   "cell_type": "code",
   "execution_count": 57,
   "metadata": {},
   "outputs": [
    {
     "data": {
      "text/plain": [
       "Counter({0: 86, 1: 112})"
      ]
     },
     "execution_count": 57,
     "metadata": {},
     "output_type": "execute_result"
    }
   ],
   "source": [
    "from imblearn.combine import SMOTEENN\n",
    "\n",
    "smoteenn = SMOTEENN(random_state=1)\n",
    "X_resampled, y_resampled = smoteenn.fit_resample(X_train, y_train)\n",
    "Counter(y_resampled)"
   ]
  },
  {
   "cell_type": "code",
   "execution_count": 58,
   "metadata": {},
   "outputs": [
    {
     "data": {
      "text/plain": [
       "LogisticRegression(random_state=1)"
      ]
     },
     "execution_count": 58,
     "metadata": {},
     "output_type": "execute_result"
    }
   ],
   "source": [
    "model = LogisticRegression(solver='lbfgs', random_state=1)\n",
    "model.fit(X_resampled, y_resampled)"
   ]
  },
  {
   "cell_type": "code",
   "execution_count": 59,
   "metadata": {},
   "outputs": [
    {
     "data": {
      "text/plain": [
       "0.4730456262714327"
      ]
     },
     "execution_count": 59,
     "metadata": {},
     "output_type": "execute_result"
    }
   ],
   "source": [
    "# Calculated the balanced accuracy score\n",
    "y_pred = model.predict(X_test)\n",
    "balanced_accuracy_score(y_test, y_pred)"
   ]
  },
  {
   "cell_type": "code",
   "execution_count": 60,
   "metadata": {},
   "outputs": [
    {
     "data": {
      "text/plain": [
       "array([[ 34,  77],\n",
       "       [ 67, 119]], dtype=int64)"
      ]
     },
     "execution_count": 60,
     "metadata": {},
     "output_type": "execute_result"
    }
   ],
   "source": [
    "# Display the confusion matrix\n",
    "confusion_matrix(y_test, y_pred)"
   ]
  },
  {
   "cell_type": "code",
   "execution_count": 61,
   "metadata": {},
   "outputs": [
    {
     "name": "stdout",
     "output_type": "stream",
     "text": [
      "                   pre       rec       spe        f1       geo       iba       sup\n",
      "\n",
      "          0       0.34      0.31      0.64      0.32      0.44      0.19       111\n",
      "          1       0.61      0.64      0.31      0.62      0.44      0.20       186\n",
      "\n",
      "avg / total       0.51      0.52      0.43      0.51      0.44      0.20       297\n",
      "\n"
     ]
    }
   ],
   "source": [
    "# Print the imbalanced classification report\n",
    "print(classification_report_imbalanced(y_test, y_pred))"
   ]
  }
 ],
 "metadata": {
  "kernelspec": {
   "display_name": "Python 3.7.13 ('mlenv')",
   "language": "python",
   "name": "python3"
  },
  "language_info": {
   "codemirror_mode": {
    "name": "ipython",
    "version": 3
   },
   "file_extension": ".py",
   "mimetype": "text/x-python",
   "name": "python",
   "nbconvert_exporter": "python",
   "pygments_lexer": "ipython3",
   "version": "3.7.13"
  },
  "orig_nbformat": 4,
  "vscode": {
   "interpreter": {
    "hash": "ad5fa9e3a671c3587a56cf244b9b1e097aebad75e4187f2af121036c4fd2b351"
   }
  }
 },
 "nbformat": 4,
 "nbformat_minor": 2
}
